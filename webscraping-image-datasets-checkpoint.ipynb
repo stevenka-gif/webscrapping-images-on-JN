{
 "cells": [
  {
   "cell_type": "markdown",
   "metadata": {},
   "source": [
    "**WEB SCRAPPING OF IMAGES with beautifulsoup by stephen**"
   ]
  },
  {
   "cell_type": "code",
   "execution_count": 1,
   "metadata": {
    "execution": {
     "iopub.execute_input": "2021-08-18T01:53:41.822524Z",
     "iopub.status.busy": "2021-08-18T01:53:41.821892Z",
     "iopub.status.idle": "2021-08-18T01:53:42.097495Z",
     "shell.execute_reply": "2021-08-18T01:53:42.096386Z",
     "shell.execute_reply.started": "2021-08-18T01:53:41.822416Z"
    }
   },
   "outputs": [],
   "source": [
    "import requests\n",
    "from bs4 import BeautifulSoup\n",
    "import urllib.request\n"
   ]
  },
  {
   "cell_type": "code",
   "execution_count": 9,
   "metadata": {
    "execution": {
     "iopub.execute_input": "2021-08-18T02:09:35.518614Z",
     "iopub.status.busy": "2021-08-18T02:09:35.518143Z",
     "iopub.status.idle": "2021-08-18T02:09:35.523158Z",
     "shell.execute_reply": "2021-08-18T02:09:35.522192Z",
     "shell.execute_reply.started": "2021-08-18T02:09:35.518575Z"
    }
   },
   "outputs": [],
   "source": [
    "search_term = \"cat\""
   ]
  },
  {
   "cell_type": "code",
   "execution_count": 2,
   "metadata": {
    "execution": {
     "iopub.execute_input": "2021-08-18T01:53:50.037561Z",
     "iopub.status.busy": "2021-08-18T01:53:50.037198Z",
     "iopub.status.idle": "2021-08-18T01:53:50.042235Z",
     "shell.execute_reply": "2021-08-18T01:53:50.041013Z",
     "shell.execute_reply.started": "2021-08-18T01:53:50.037528Z"
    }
   },
   "outputs": [],
   "source": [
    "url =\"https://www.google.com/search?q=cat&tbm=isch&hl=en-US&chips=q:cat,g_1:kitten:9vy3U2mCN5I%3D&sa=X&ved=2ahUKEwjZmuyc0pHyAhUDUysKHcQBBV4Q4lYoAHoECAEQDw&biw=750&bih=727\""
   ]
  },
  {
   "cell_type": "code",
   "execution_count": 3,
   "metadata": {
    "execution": {
     "iopub.execute_input": "2021-08-18T01:53:53.108172Z",
     "iopub.status.busy": "2021-08-18T01:53:53.107661Z",
     "iopub.status.idle": "2021-08-18T01:53:53.792121Z",
     "shell.execute_reply": "2021-08-18T01:53:53.791054Z",
     "shell.execute_reply.started": "2021-08-18T01:53:53.108128Z"
    }
   },
   "outputs": [],
   "source": [
    "response = requests.get(url) "
   ]
  },
  {
   "cell_type": "code",
   "execution_count": 4,
   "metadata": {
    "execution": {
     "iopub.execute_input": "2021-08-18T01:53:54.724365Z",
     "iopub.status.busy": "2021-08-18T01:53:54.723974Z",
     "iopub.status.idle": "2021-08-18T01:53:55.085242Z",
     "shell.execute_reply": "2021-08-18T01:53:55.084068Z",
     "shell.execute_reply.started": "2021-08-18T01:53:54.724333Z"
    }
   },
   "outputs": [],
   "source": [
    "soup = BeautifulSoup(response.content, \"html.parser\")"
   ]
  },
  {
   "cell_type": "code",
   "execution_count": 5,
   "metadata": {
    "execution": {
     "iopub.execute_input": "2021-08-18T01:53:58.200129Z",
     "iopub.status.busy": "2021-08-18T01:53:58.199745Z",
     "iopub.status.idle": "2021-08-18T01:53:58.206890Z",
     "shell.execute_reply": "2021-08-18T01:53:58.205507Z",
     "shell.execute_reply.started": "2021-08-18T01:53:58.200098Z"
    }
   },
   "outputs": [],
   "source": [
    "images=soup.findAll(\"img\",attrs ={\"class\":\"yWs4tf\"})"
   ]
  },
  {
   "cell_type": "code",
   "execution_count": 6,
   "metadata": {
    "execution": {
     "iopub.execute_input": "2021-08-18T01:54:01.929303Z",
     "iopub.status.busy": "2021-08-18T01:54:01.928865Z",
     "iopub.status.idle": "2021-08-18T01:54:01.939273Z",
     "shell.execute_reply": "2021-08-18T01:54:01.938015Z",
     "shell.execute_reply.started": "2021-08-18T01:54:01.929272Z"
    }
   },
   "outputs": [
    {
     "data": {
      "text/plain": [
       "[<img alt=\"\" class=\"yWs4tf\" src=\"https://encrypted-tbn0.gstatic.com/images?q=tbn:ANd9GcSiKlqs9YNynkqgX5DOD1ULoXyLNxSSj20lg1WBr_GcpnObsfyzFGol0Hj2bA&amp;s\"/>,\n",
       " <img alt=\"\" class=\"yWs4tf\" src=\"https://encrypted-tbn0.gstatic.com/images?q=tbn:ANd9GcRBCTkp6_CNHHnJKLjg7y9WvSsVZkkWiUQZxXckgqmpVezDuDdvW8xdxYE36A&amp;s\"/>,\n",
       " <img alt=\"\" class=\"yWs4tf\" src=\"https://encrypted-tbn0.gstatic.com/images?q=tbn:ANd9GcRGDvIjqAsgCyoXPysqjQbSDLCHK6SEF67S4iEX31DLpTBfMrWSFWrw6gVNH7o&amp;s\"/>,\n",
       " <img alt=\"\" class=\"yWs4tf\" src=\"https://encrypted-tbn0.gstatic.com/images?q=tbn:ANd9GcQ4w0zP0tgiHOVtPypwdmLEyVjHf3YnLecMdhx-9doJ0W79grBOaCgF5MgKvg&amp;s\"/>,\n",
       " <img alt=\"\" class=\"yWs4tf\" src=\"https://encrypted-tbn0.gstatic.com/images?q=tbn:ANd9GcRDpNrWXx7RuZh4qNO51toqKnkuq9xpEHGHjoz8MIL6IYqH4ZAuBcrl3uSh8ts&amp;s\"/>,\n",
       " <img alt=\"\" class=\"yWs4tf\" src=\"https://encrypted-tbn0.gstatic.com/images?q=tbn:ANd9GcRos-FfvYvExY4uHcHQrkJd5HGkwVRa8GYQwYU8T4MhmIVnKDjMz6qqndMZ5Q&amp;s\"/>,\n",
       " <img alt=\"\" class=\"yWs4tf\" src=\"https://encrypted-tbn0.gstatic.com/images?q=tbn:ANd9GcSqlpTk8pcfqCajnoq5FimE8c9uguKAE8J2Aa1r2qFXGO6H9PJ5wHgj9E5xzOY&amp;s\"/>,\n",
       " <img alt=\"\" class=\"yWs4tf\" src=\"https://encrypted-tbn0.gstatic.com/images?q=tbn:ANd9GcQ3Y_KybJBJRZNp1YERLy8szRdKOCIIGB_Jyueb44wvKaIy8zgzhca3e3ko3wQ&amp;s\"/>,\n",
       " <img alt=\"\" class=\"yWs4tf\" src=\"https://encrypted-tbn0.gstatic.com/images?q=tbn:ANd9GcTUPBkFArVlGYMOo1zTCwSgoCSrKjDbxSV9wJuv7JDFWEN9vg7pOTEzhCobWg&amp;s\"/>,\n",
       " <img alt=\"\" class=\"yWs4tf\" src=\"https://encrypted-tbn0.gstatic.com/images?q=tbn:ANd9GcR2gyVb7UXKNLlDN8dcMfnALYnQQFoY0Iiccmoee3TbO-nUMO-PBkC3v2RiOg&amp;s\"/>,\n",
       " <img alt=\"\" class=\"yWs4tf\" src=\"https://encrypted-tbn0.gstatic.com/images?q=tbn:ANd9GcSh2LmEqjxNS-fSKHfFd8wI1_8E6ps3oxa5xxyR1b4cq9yuA3UGXAKYakO2xA&amp;s\"/>,\n",
       " <img alt=\"\" class=\"yWs4tf\" src=\"https://encrypted-tbn0.gstatic.com/images?q=tbn:ANd9GcToHNj0Dv6XiX6jyrhMKhUzrRwdoYzdPbqy_bne3WPOLsiYDaJY4lDHQMnKoAo&amp;s\"/>,\n",
       " <img alt=\"\" class=\"yWs4tf\" src=\"https://encrypted-tbn0.gstatic.com/images?q=tbn:ANd9GcRNx62t8nXNedmjjCElIBGzApXjzyjJiBYgfwpKcgXI033hvl4dtzjh71xnyfU&amp;s\"/>,\n",
       " <img alt=\"\" class=\"yWs4tf\" src=\"https://encrypted-tbn0.gstatic.com/images?q=tbn:ANd9GcTuBUjDITN1FLgCRBXKrca1HHepD_vU3838s7ttGaLF2gDn7ccreGcDXTGXNw&amp;s\"/>,\n",
       " <img alt=\"\" class=\"yWs4tf\" src=\"https://encrypted-tbn0.gstatic.com/images?q=tbn:ANd9GcSU0-3Z8GClRnaZkUNhENNyfxU6LYxkzHVI5WyFbcXUtyfDwDaOuYWtLbY3PVI&amp;s\"/>,\n",
       " <img alt=\"\" class=\"yWs4tf\" src=\"https://encrypted-tbn0.gstatic.com/images?q=tbn:ANd9GcT1knSz0IqjuaOaxHJBYd1pCvNbSMtTzib9exrlcTv2hQJ6nm846RfbOZwGHg&amp;s\"/>,\n",
       " <img alt=\"\" class=\"yWs4tf\" src=\"https://encrypted-tbn0.gstatic.com/images?q=tbn:ANd9GcRIZ2V4OqKE5rZLyFHVlD5ulg1INi2Yo313T_MgEzLBf6zSNQ8Xu0BRtadKZes&amp;s\"/>,\n",
       " <img alt=\"\" class=\"yWs4tf\" src=\"https://encrypted-tbn0.gstatic.com/images?q=tbn:ANd9GcRsL4Io4Ls_2n8gZooXdZjBmQDcw9ME4nlaGS9lRaIfZ71PqMuhfKOAui36Mkw&amp;s\"/>,\n",
       " <img alt=\"\" class=\"yWs4tf\" src=\"https://encrypted-tbn0.gstatic.com/images?q=tbn:ANd9GcS5ioR5ImZd23D-CPe2gqWaWW7qS7iDzlKNgMr2A78ZuqdzEz0FFH2Y0TUXdfI&amp;s\"/>,\n",
       " <img alt=\"\" class=\"yWs4tf\" src=\"https://encrypted-tbn0.gstatic.com/images?q=tbn:ANd9GcSgk4AQ8lIVOSB3206Y_2zSz2naSp7-3a0qvMMC-4hCOZaDamScS1J5O12jlxU&amp;s\"/>]"
      ]
     },
     "execution_count": 6,
     "metadata": {},
     "output_type": "execute_result"
    }
   ],
   "source": [
    "images"
   ]
  },
  {
   "cell_type": "code",
   "execution_count": 16,
   "metadata": {
    "execution": {
     "iopub.execute_input": "2021-08-18T02:15:26.752908Z",
     "iopub.status.busy": "2021-08-18T02:15:26.752546Z",
     "iopub.status.idle": "2021-08-18T02:15:26.757604Z",
     "shell.execute_reply": "2021-08-18T02:15:26.756150Z",
     "shell.execute_reply.started": "2021-08-18T02:15:26.752879Z"
    }
   },
   "outputs": [],
   "source": [
    "os.makedirs('../output/cats')"
   ]
  },
  {
   "cell_type": "code",
   "execution_count": 15,
   "metadata": {
    "execution": {
     "iopub.execute_input": "2021-08-18T02:14:43.616327Z",
     "iopub.status.busy": "2021-08-18T02:14:43.615728Z",
     "iopub.status.idle": "2021-08-18T02:14:47.738010Z",
     "shell.execute_reply": "2021-08-18T02:14:47.736895Z",
     "shell.execute_reply.started": "2021-08-18T02:14:43.616279Z"
    }
   },
   "outputs": [
    {
     "name": "stdout",
     "output_type": "stream",
     "text": [
      "https://encrypted-tbn0.gstatic.com/images?q=tbn:ANd9GcSiKlqs9YNynkqgX5DOD1ULoXyLNxSSj20lg1WBr_GcpnObsfyzFGol0Hj2bA&s\n",
      "https://encrypted-tbn0.gstatic.com/images?q=tbn:ANd9GcRBCTkp6_CNHHnJKLjg7y9WvSsVZkkWiUQZxXckgqmpVezDuDdvW8xdxYE36A&s\n",
      "https://encrypted-tbn0.gstatic.com/images?q=tbn:ANd9GcRGDvIjqAsgCyoXPysqjQbSDLCHK6SEF67S4iEX31DLpTBfMrWSFWrw6gVNH7o&s\n",
      "https://encrypted-tbn0.gstatic.com/images?q=tbn:ANd9GcQ4w0zP0tgiHOVtPypwdmLEyVjHf3YnLecMdhx-9doJ0W79grBOaCgF5MgKvg&s\n",
      "https://encrypted-tbn0.gstatic.com/images?q=tbn:ANd9GcRDpNrWXx7RuZh4qNO51toqKnkuq9xpEHGHjoz8MIL6IYqH4ZAuBcrl3uSh8ts&s\n",
      "https://encrypted-tbn0.gstatic.com/images?q=tbn:ANd9GcRos-FfvYvExY4uHcHQrkJd5HGkwVRa8GYQwYU8T4MhmIVnKDjMz6qqndMZ5Q&s\n",
      "https://encrypted-tbn0.gstatic.com/images?q=tbn:ANd9GcSqlpTk8pcfqCajnoq5FimE8c9uguKAE8J2Aa1r2qFXGO6H9PJ5wHgj9E5xzOY&s\n",
      "https://encrypted-tbn0.gstatic.com/images?q=tbn:ANd9GcQ3Y_KybJBJRZNp1YERLy8szRdKOCIIGB_Jyueb44wvKaIy8zgzhca3e3ko3wQ&s\n",
      "https://encrypted-tbn0.gstatic.com/images?q=tbn:ANd9GcTUPBkFArVlGYMOo1zTCwSgoCSrKjDbxSV9wJuv7JDFWEN9vg7pOTEzhCobWg&s\n",
      "https://encrypted-tbn0.gstatic.com/images?q=tbn:ANd9GcR2gyVb7UXKNLlDN8dcMfnALYnQQFoY0Iiccmoee3TbO-nUMO-PBkC3v2RiOg&s\n",
      "https://encrypted-tbn0.gstatic.com/images?q=tbn:ANd9GcSh2LmEqjxNS-fSKHfFd8wI1_8E6ps3oxa5xxyR1b4cq9yuA3UGXAKYakO2xA&s\n",
      "https://encrypted-tbn0.gstatic.com/images?q=tbn:ANd9GcToHNj0Dv6XiX6jyrhMKhUzrRwdoYzdPbqy_bne3WPOLsiYDaJY4lDHQMnKoAo&s\n",
      "https://encrypted-tbn0.gstatic.com/images?q=tbn:ANd9GcRNx62t8nXNedmjjCElIBGzApXjzyjJiBYgfwpKcgXI033hvl4dtzjh71xnyfU&s\n",
      "https://encrypted-tbn0.gstatic.com/images?q=tbn:ANd9GcTuBUjDITN1FLgCRBXKrca1HHepD_vU3838s7ttGaLF2gDn7ccreGcDXTGXNw&s\n",
      "https://encrypted-tbn0.gstatic.com/images?q=tbn:ANd9GcSU0-3Z8GClRnaZkUNhENNyfxU6LYxkzHVI5WyFbcXUtyfDwDaOuYWtLbY3PVI&s\n",
      "https://encrypted-tbn0.gstatic.com/images?q=tbn:ANd9GcT1knSz0IqjuaOaxHJBYd1pCvNbSMtTzib9exrlcTv2hQJ6nm846RfbOZwGHg&s\n",
      "https://encrypted-tbn0.gstatic.com/images?q=tbn:ANd9GcRIZ2V4OqKE5rZLyFHVlD5ulg1INi2Yo313T_MgEzLBf6zSNQ8Xu0BRtadKZes&s\n",
      "https://encrypted-tbn0.gstatic.com/images?q=tbn:ANd9GcRsL4Io4Ls_2n8gZooXdZjBmQDcw9ME4nlaGS9lRaIfZ71PqMuhfKOAui36Mkw&s\n",
      "https://encrypted-tbn0.gstatic.com/images?q=tbn:ANd9GcS5ioR5ImZd23D-CPe2gqWaWW7qS7iDzlKNgMr2A78ZuqdzEz0FFH2Y0TUXdfI&s\n",
      "https://encrypted-tbn0.gstatic.com/images?q=tbn:ANd9GcSgk4AQ8lIVOSB3206Y_2zSz2naSp7-3a0qvMMC-4hCOZaDamScS1J5O12jlxU&s\n"
     ]
    }
   ],
   "source": [
    "imgcount = 0\n",
    "\n",
    "for image in images:\n",
    "    image_src =image[\"src\"]\n",
    "    print(image_src)\n",
    "    name =\"../output/cats/\"+str(imgcount)+\".jpg\"\n",
    "    urllib.request.urlretrieve(image_src,name)\n",
    "    imgcount+=1\n"
   ]
  },
  {
   "cell_type": "code",
   "execution_count": 17,
   "metadata": {
    "execution": {
     "iopub.execute_input": "2021-08-18T02:33:46.128286Z",
     "iopub.status.busy": "2021-08-18T02:33:46.127868Z",
     "iopub.status.idle": "2021-08-18T02:33:46.132597Z",
     "shell.execute_reply": "2021-08-18T02:33:46.131503Z",
     "shell.execute_reply.started": "2021-08-18T02:33:46.128254Z"
    }
   },
   "outputs": [],
   "source": [
    "url = \"https://www.freeimages.com/search/kitten-cat\"\n",
    "headers = {'User-Agent':'Mozilla/5.0 (Windows NT 10.0; Win64; x64) AppleWebKit/537.36 (KHTML, like Gecko) Chrome/58.0.3029.110 Safari/537.3'}"
   ]
  },
  {
   "cell_type": "code",
   "execution_count": 18,
   "metadata": {
    "execution": {
     "iopub.execute_input": "2021-08-18T02:33:47.401528Z",
     "iopub.status.busy": "2021-08-18T02:33:47.401111Z",
     "iopub.status.idle": "2021-08-18T02:33:49.216153Z",
     "shell.execute_reply": "2021-08-18T02:33:49.215063Z",
     "shell.execute_reply.started": "2021-08-18T02:33:47.401496Z"
    }
   },
   "outputs": [],
   "source": [
    "response = requests.get(url,headers = headers)\n"
   ]
  },
  {
   "cell_type": "code",
   "execution_count": 19,
   "metadata": {
    "execution": {
     "iopub.execute_input": "2021-08-18T02:33:54.239315Z",
     "iopub.status.busy": "2021-08-18T02:33:54.238924Z",
     "iopub.status.idle": "2021-08-18T02:33:54.343453Z",
     "shell.execute_reply": "2021-08-18T02:33:54.342519Z",
     "shell.execute_reply.started": "2021-08-18T02:33:54.239284Z"
    }
   },
   "outputs": [],
   "source": [
    "soup =BeautifulSoup(response.content,\"html.parser\")"
   ]
  },
  {
   "cell_type": "code",
   "execution_count": 20,
   "metadata": {
    "execution": {
     "iopub.execute_input": "2021-08-18T02:34:08.622674Z",
     "iopub.status.busy": "2021-08-18T02:34:08.622316Z",
     "iopub.status.idle": "2021-08-18T02:34:08.634640Z",
     "shell.execute_reply": "2021-08-18T02:34:08.633761Z",
     "shell.execute_reply.started": "2021-08-18T02:34:08.622645Z"
    }
   },
   "outputs": [],
   "source": [
    "# print(soup.prettify())\n",
    "images=soup.findAll(\"img\",attrs ={\"class\":\"nocoda\"})"
   ]
  },
  {
   "cell_type": "code",
   "execution_count": 22,
   "metadata": {
    "execution": {
     "iopub.execute_input": "2021-08-18T02:35:17.143413Z",
     "iopub.status.busy": "2021-08-18T02:35:17.143050Z",
     "iopub.status.idle": "2021-08-18T02:35:56.502298Z",
     "shell.execute_reply": "2021-08-18T02:35:56.501115Z",
     "shell.execute_reply.started": "2021-08-18T02:35:17.143382Z"
    }
   },
   "outputs": [
    {
     "name": "stdout",
     "output_type": "stream",
     "text": [
      "https://media.istockphoto.com/photos/cat-and-dog-sleeping-puppy-and-kitten-sleep-picture-id1168451046?b=1&k=6&m=1168451046&s=170x170&h=yU4G1LCkk-xu262841Svlid5HaBtEN8yIsy4CEfwDgw=\n",
      "https://media.istockphoto.com/photos/maine-coon-kitten-on-scratching-post-picture-id1085283872?b=1&k=6&m=1085283872&s=170x170&h=yfMWrV6xveTxAEYjfm0aOIq5Vch3p2Fr8PfCJ5bFBao=\n",
      "https://media.istockphoto.com/photos/cute-red-kitten-is-sleeping-on-his-back-and-smiling-paws-up-concept-picture-id1144982182?b=1&k=6&m=1144982182&s=170x170&h=HGgMj9pMlVJKGURa_m4ekha95FfzTRgn4gr4rYgZF9o=\n",
      "https://media.istockphoto.com/photos/kitten-sleeping-in-man-hands-cats-sleep-picture-id1168285684?b=1&k=6&m=1168285684&s=170x170&h=yNCMKLOW15IWf1UUm-4ja994WDgt9ftqeWFvthQD00M=\n",
      "https://media.istockphoto.com/photos/mother-cat-nursing-baby-kittens-picture-id1070428270?b=1&k=6&m=1070428270&s=170x170&h=D4lWs90jMj0M8HTxHggIfp1DIq4Y2Qq7GuUWTKg0_IA=\n",
      "https://media.istockphoto.com/photos/cute-bengal-funny-cat-playing-picture-id1071204136?b=1&k=6&m=1071204136&s=170x170&h=jWvJNiGoPcsvVzE_jiNUQmZ0Je8f4bE9CbTJk7Gogns=\n",
      "https://media.istockphoto.com/photos/cute-puppy-and-kitten-on-the-grass-outdoor-picture-id619961796?b=1&k=6&m=619961796&s=170x170&h=HSZvQJ3lpyduONzvZavmQSzq6v8Tk6VXN2FAlKxuE7E=\n",
      "https://media.istockphoto.com/photos/portrait-of-cute-little-kitten-outdoors-in-flowers-picture-id485575238?b=1&k=6&m=485575238&s=170x170&h=acbgno2J9PPwN1tj1daiEcOu5LVkru3mVSQIqkD7dCI=\n",
      "https://media.istockphoto.com/photos/funny-kitten-picture-id91626487?b=1&k=6&m=91626487&s=170x170&h=Cx1wmLOpg_g_yxVOZRmpbw0Afdnh7cEe9tQYllPVYfU=\n",
      "https://media.istockphoto.com/photos/kitten-plays-with-toy-mouse-picture-id157512060?b=1&k=6&m=157512060&s=170x170&h=l5m1t8EbmteyQYTHMz1bJaNyly4q9o3snd9c9AjiU-Y=\n",
      "https://media.istockphoto.com/photos/person-holding-little-cats-in-arms-picture-id183384678?b=1&k=6&m=183384678&s=170x170&h=206gaK8tQU-ye4ondolBDJ9nUYLiGAxdJkr1L4P2nVA=\n",
      "https://media.istockphoto.com/photos/golden-british-kitten-hugs-with-love-his-girlfriend-cat-picture-id1097957242?b=1&k=6&m=1097957242&s=170x170&h=OrdF3jPXcXs9wvceRc7qEvKOg_Ak-useJv1FTviTlew=\n",
      "https://media.istockphoto.com/photos/british-short-hair-cat-and-golden-retriever-picture-id992637094?b=1&k=6&m=992637094&s=170x170&h=ajyeJB3PFHCexW5xYpHsG49JBIk48InqHGz_LvZr8t8=\n",
      "https://media.istockphoto.com/photos/little-black-kitten-playing-and-enjoys-with-orange-ball-at-living-of-picture-id1186954832?b=1&k=6&m=1186954832&s=170x170&h=9HEdnI1VDz9twDf4Y4KK_ap4SyRXFaIUCt3pnwJYcOE=\n",
      "https://media.istockphoto.com/photos/portrait-of-a-funny-cat-looking-out-of-the-box-picture-id1097010202?b=1&k=6&m=1097010202&s=170x170&h=ESTA_0KbyAC_beB0Nmc2XM58NBRyeuThqBiTWHEV--Y=\n",
      "https://media.istockphoto.com/photos/vet-with-dog-and-cat-puppy-and-kitten-at-doctor-picture-id1171733307?b=1&k=6&m=1171733307&s=170x170&h=o82Y-TAsnLWKhUqr_Kkxpuoo0io9lkoUy9g4N4YrX-0=\n",
      "https://media.istockphoto.com/photos/small-tabby-mixed-breed-kitten-under-gray-and-red-wool-plaid-pets-picture-id1160261821?b=1&k=6&m=1160261821&s=170x170&h=ueFXIQOLRKEZQNSu7Eg_CON5g42NkJEiBpRN8IVTb64=\n",
      "https://media.istockphoto.com/photos/cute-tabby-kittens-sleeping-and-hugging-picture-id480615728?b=1&k=6&m=480615728&s=170x170&h=PwX1h4OAol4q9GEXUW1LJ85zv3WoVriN0leZzhqjiKo=\n",
      "https://media.istockphoto.com/photos/kitten-bengal-cat-pet-looking-at-a-mixed-race-man-picture-id1193176664?b=1&k=6&m=1193176664&s=170x170&h=rmbcoA7l0GsF1boCBqls9skxu80FMF6jZC2hAfTI1gY=\n",
      "https://media.istockphoto.com/photos/cute-puppy-kissing-kitten-picture-id526356029?b=1&k=6&m=526356029&s=170x170&h=sf6QCSj31a_YYXRLddz6V_LnNdGfCxKTgwQCJ4in1Ss=\n",
      "https://media.istockphoto.com/photos/puppy-and-kitten-picture-id183334500?b=1&k=6&m=183334500&s=170x170&h=1k0PYVboa-1kajsNBlTpZZsi_Ktx9cwTtdviSZ6RQr0=\n",
      "https://media.istockphoto.com/photos/adorable-scottish-straight-cat-peeking-from-behind-a-banner-picture-id1097008888?b=1&k=6&m=1097008888&s=170x170&h=VzuHKCTxIgljiTC5_FARIIT7tbbOVne5hGFgMS0v06w=\n",
      "https://media.istockphoto.com/photos/sunny-cat-picture-id508030340?b=1&k=6&m=508030340&s=170x170&h=ghFom0IMicezrXpeBEaa4ac70XvRKIxnRPfUQrv8K8Q=\n",
      "https://media.istockphoto.com/photos/portrait-of-siberian-kitten-picture-id637000686?b=1&k=6&m=637000686&s=170x170&h=s2EAwKfRDZgwxyptOT5MVnYDmKg-W7W7wKCgBMS_fuE=\n",
      "https://media.istockphoto.com/photos/kitten-bengal-cat-pet-looking-at-a-mixed-race-man-picture-id1193176664?b=1&k=6&m=1193176664&s=170x170&h=rmbcoA7l0GsF1boCBqls9skxu80FMF6jZC2hAfTI1gY=\n",
      "https://media.istockphoto.com/photos/cute-puppy-kissing-kitten-picture-id526356029?b=1&k=6&m=526356029&s=170x170&h=sf6QCSj31a_YYXRLddz6V_LnNdGfCxKTgwQCJ4in1Ss=\n",
      "https://media.istockphoto.com/photos/puppy-and-kitten-picture-id183334500?b=1&k=6&m=183334500&s=170x170&h=1k0PYVboa-1kajsNBlTpZZsi_Ktx9cwTtdviSZ6RQr0=\n",
      "https://media.istockphoto.com/photos/adorable-scottish-straight-cat-peeking-from-behind-a-banner-picture-id1097008888?b=1&k=6&m=1097008888&s=170x170&h=VzuHKCTxIgljiTC5_FARIIT7tbbOVne5hGFgMS0v06w=\n",
      "https://media.istockphoto.com/photos/sunny-cat-picture-id508030340?b=1&k=6&m=508030340&s=170x170&h=ghFom0IMicezrXpeBEaa4ac70XvRKIxnRPfUQrv8K8Q=\n",
      "https://media.istockphoto.com/photos/portrait-of-siberian-kitten-picture-id637000686?b=1&k=6&m=637000686&s=170x170&h=s2EAwKfRDZgwxyptOT5MVnYDmKg-W7W7wKCgBMS_fuE=\n",
      "https://media.istockphoto.com/photos/cute-british-short-hairy-cat-picture-id1055045568?b=1&k=6&m=1055045568&s=170x170&h=A-yOgms3wwlEraABsd29eR2FCVpxnFwjZ-X2n-UFFtU=\n",
      "https://media.istockphoto.com/photos/big-meow-picture-id826557526?b=1&k=6&m=826557526&s=170x170&h=Xgmsb7V7gbMwq6KNQdyxXLyQqKMHda8Eo3lfRSEaRgQ=\n",
      "https://media.istockphoto.com/photos/fluffy-gray-kitten-of-a-russian-blue-cat-picture-id858701710?b=1&k=6&m=858701710&s=170x170&h=AMaqRZs5L0ts1D920sdHK7TPIG2rxmWZQWV7fg-YJWE=\n",
      "https://media.istockphoto.com/photos/kitten-with-his-paw-up-picture-id149052633?b=1&k=6&m=149052633&s=170x170&h=Xl7IoNiEKNj_UcQxsJhcXSKZKeavz83Ud4BkIyzW2ak=\n",
      "https://media.istockphoto.com/photos/cat-with-blue-eyes-looks-at-camera-picture-id1067347086?b=1&k=6&m=1067347086&s=170x170&h=0cydn9cDiPfhaAdfI_-NO-KFsfKXQJSf09XGSFPJRmA=\n",
      "https://media.istockphoto.com/photos/young-cat-plays-with-dandelion-in-back-light-picture-id477799262?b=1&k=6&m=477799262&s=170x170&h=8Y9DJ9jaASFaCl_-vIlEj8bdZs15b4iPpHpU7wn22Rs=\n"
     ]
    }
   ],
   "source": [
    "for image in images:\n",
    "    image_src =image[\"src\"]\n",
    "    print(image_src)\n",
    "    name =\"../output/cats/\"+image[\"alt\"]+\".jpg\"\n",
    "    urllib.request.urlretrieve(image_src,name)\n"
   ]
  },
  {
   "cell_type": "code",
   "execution_count": 24,
   "metadata": {
    "execution": {
     "iopub.execute_input": "2021-08-18T02:37:57.151477Z",
     "iopub.status.busy": "2021-08-18T02:37:57.150980Z",
     "iopub.status.idle": "2021-08-18T02:37:57.155514Z",
     "shell.execute_reply": "2021-08-18T02:37:57.154571Z",
     "shell.execute_reply.started": "2021-08-18T02:37:57.151447Z"
    }
   },
   "outputs": [],
   "source": [
    "url  = \"https://unsplash.com/s/photos/kitten\""
   ]
  },
  {
   "cell_type": "code",
   "execution_count": 25,
   "metadata": {
    "execution": {
     "iopub.execute_input": "2021-08-18T02:38:02.793600Z",
     "iopub.status.busy": "2021-08-18T02:38:02.793239Z",
     "iopub.status.idle": "2021-08-18T02:38:03.514180Z",
     "shell.execute_reply": "2021-08-18T02:38:03.513188Z",
     "shell.execute_reply.started": "2021-08-18T02:38:02.793569Z"
    }
   },
   "outputs": [],
   "source": [
    "response = requests.get(url)"
   ]
  },
  {
   "cell_type": "code",
   "execution_count": 26,
   "metadata": {
    "execution": {
     "iopub.execute_input": "2021-08-18T02:38:09.308385Z",
     "iopub.status.busy": "2021-08-18T02:38:09.308027Z",
     "iopub.status.idle": "2021-08-18T02:38:13.503289Z",
     "shell.execute_reply": "2021-08-18T02:38:13.501675Z",
     "shell.execute_reply.started": "2021-08-18T02:38:09.308356Z"
    }
   },
   "outputs": [],
   "source": [
    "soup = BeautifulSoup(response.content, \"html.parser\")"
   ]
  },
  {
   "cell_type": "code",
   "execution_count": 27,
   "metadata": {
    "execution": {
     "iopub.execute_input": "2021-08-18T02:38:16.565964Z",
     "iopub.status.busy": "2021-08-18T02:38:16.565575Z",
     "iopub.status.idle": "2021-08-18T02:38:16.590731Z",
     "shell.execute_reply": "2021-08-18T02:38:16.589553Z",
     "shell.execute_reply.started": "2021-08-18T02:38:16.565916Z"
    }
   },
   "outputs": [],
   "source": [
    "d1=soup.findAll(\"div\", {\"class\":\"_1ZjfQ\"})"
   ]
  },
  {
   "cell_type": "code",
   "execution_count": 28,
   "metadata": {
    "execution": {
     "iopub.execute_input": "2021-08-18T02:38:28.088646Z",
     "iopub.status.busy": "2021-08-18T02:38:28.088244Z",
     "iopub.status.idle": "2021-08-18T02:38:28.114623Z",
     "shell.execute_reply": "2021-08-18T02:38:28.113819Z",
     "shell.execute_reply.started": "2021-08-18T02:38:28.088611Z"
    }
   },
   "outputs": [],
   "source": [
    "d1=soup.findAll(\"div\", {\"class\":\"_1ZjfQ\"})"
   ]
  },
  {
   "cell_type": "code",
   "execution_count": 30,
   "metadata": {
    "execution": {
     "iopub.execute_input": "2021-08-18T02:38:39.763296Z",
     "iopub.status.busy": "2021-08-18T02:38:39.762733Z",
     "iopub.status.idle": "2021-08-18T02:38:39.773571Z",
     "shell.execute_reply": "2021-08-18T02:38:39.772607Z",
     "shell.execute_reply.started": "2021-08-18T02:38:39.763249Z"
    }
   },
   "outputs": [],
   "source": [
    "images=soup.findAll(\"img\",attrs ={\"class\":\"oCCRx\"})"
   ]
  },
  {
   "cell_type": "code",
   "execution_count": 31,
   "metadata": {
    "execution": {
     "iopub.execute_input": "2021-08-18T02:39:22.048163Z",
     "iopub.status.busy": "2021-08-18T02:39:22.047763Z",
     "iopub.status.idle": "2021-08-18T02:39:33.318781Z",
     "shell.execute_reply": "2021-08-18T02:39:33.317744Z",
     "shell.execute_reply.started": "2021-08-18T02:39:22.048131Z"
    }
   },
   "outputs": [
    {
     "name": "stdout",
     "output_type": "stream",
     "text": [
      "https://images.unsplash.com/photo-1555685812-4b943f1cb0eb?ixid=MnwxMjA3fDB8MHxzZWFyY2h8MXx8a2l0dGVufGVufDB8fDB8fA%3D%3D&ixlib=rb-1.2.1&w=1000&q=80\n",
      "https://images.unsplash.com/photo-1591871937573-74dbba515c4c?ixid=MnwxMjA3fDB8MHxzZWFyY2h8M3x8a2l0dGVufGVufDB8fDB8fA%3D%3D&ixlib=rb-1.2.1&w=1000&q=80\n",
      "https://images.unsplash.com/photo-1560114928-40f1f1eb26a0?ixid=MnwxMjA3fDB8MHxzZWFyY2h8Mnx8a2l0dGVufGVufDB8fDB8fA%3D%3D&ixlib=rb-1.2.1&w=1000&q=80\n",
      "https://images.unsplash.com/photo-1555685812-4b943f1cb0eb?ixid=MnwxMjA3fDB8MHxzZWFyY2h8MXx8a2l0dGVufGVufDB8fDB8fA%3D%3D&ixlib=rb-1.2.1&w=1000&q=80\n",
      "https://images.unsplash.com/photo-1560114928-40f1f1eb26a0?ixid=MnwxMjA3fDB8MHxzZWFyY2h8Mnx8a2l0dGVufGVufDB8fDB8fA%3D%3D&ixlib=rb-1.2.1&w=1000&q=80\n",
      "https://images.unsplash.com/photo-1591871937573-74dbba515c4c?ixid=MnwxMjA3fDB8MHxzZWFyY2h8M3x8a2l0dGVufGVufDB8fDB8fA%3D%3D&ixlib=rb-1.2.1&w=1000&q=80\n",
      "https://images.unsplash.com/photo-1555685812-4b943f1cb0eb?ixid=MnwxMjA3fDB8MHxzZWFyY2h8MXx8a2l0dGVufGVufDB8fDB8fA%3D%3D&ixlib=rb-1.2.1&w=1000&q=80\n",
      "https://images.unsplash.com/photo-1560114928-40f1f1eb26a0?ixid=MnwxMjA3fDB8MHxzZWFyY2h8Mnx8a2l0dGVufGVufDB8fDB8fA%3D%3D&ixlib=rb-1.2.1&w=1000&q=80\n",
      "https://images.unsplash.com/photo-1591871937573-74dbba515c4c?ixid=MnwxMjA3fDB8MHxzZWFyY2h8M3x8a2l0dGVufGVufDB8fDB8fA%3D%3D&ixlib=rb-1.2.1&w=1000&q=80\n"
     ]
    }
   ],
   "source": [
    "imgcount = 0\n",
    "\n",
    "for image in images:\n",
    "    image_src =image[\"src\"]\n",
    "    print(image_src)\n",
    "    name =\"../output/cats/\"+image[\"alt\"]+\".jpg\"\n",
    "    urllib.request.urlretrieve(image_src,name)\n",
    "\n"
   ]
  },
  {
   "cell_type": "markdown",
   "metadata": {},
   "source": [
    "SIMILARLY YOU CAN DO FOR DOG DATASET"
   ]
  },
  {
   "cell_type": "code",
   "execution_count": null,
   "metadata": {},
   "outputs": [],
   "source": [
    "os.makedirs('../output/dogs')"
   ]
  },
  {
   "cell_type": "code",
   "execution_count": 32,
   "metadata": {
    "execution": {
     "iopub.execute_input": "2021-08-18T02:41:17.101716Z",
     "iopub.status.busy": "2021-08-18T02:41:17.101260Z",
     "iopub.status.idle": "2021-08-18T02:41:17.106374Z",
     "shell.execute_reply": "2021-08-18T02:41:17.105091Z",
     "shell.execute_reply.started": "2021-08-18T02:41:17.101672Z"
    }
   },
   "outputs": [],
   "source": [
    "url =\"https://www.google.com/search?q=cute+puppy+images&sxsrf=ALeKk02w8iUI3eSALKKtyhVkcj09c2bGPg:1627897458362&source=lnms&tbm=isch&sa=X&ved=2ahUKEwjHt_HNhpLyAhVryzgGHRygDCQQ_AUoAXoECAEQAw&biw=1536&bih=754\""
   ]
  },
  {
   "cell_type": "code",
   "execution_count": 33,
   "metadata": {
    "execution": {
     "iopub.execute_input": "2021-08-18T02:41:22.975076Z",
     "iopub.status.busy": "2021-08-18T02:41:22.974708Z",
     "iopub.status.idle": "2021-08-18T02:41:23.695081Z",
     "shell.execute_reply": "2021-08-18T02:41:23.694041Z",
     "shell.execute_reply.started": "2021-08-18T02:41:22.975047Z"
    }
   },
   "outputs": [],
   "source": [
    "response = requests.get(url) \n",
    "soup = BeautifulSoup(response.content, \"html.parser\")"
   ]
  },
  {
   "cell_type": "code",
   "execution_count": 34,
   "metadata": {
    "execution": {
     "iopub.execute_input": "2021-08-18T02:41:28.062406Z",
     "iopub.status.busy": "2021-08-18T02:41:28.061851Z",
     "iopub.status.idle": "2021-08-18T02:41:28.068856Z",
     "shell.execute_reply": "2021-08-18T02:41:28.067700Z",
     "shell.execute_reply.started": "2021-08-18T02:41:28.062363Z"
    }
   },
   "outputs": [],
   "source": [
    "images=soup.findAll(\"img\",attrs ={\"class\":\"yWs4tf\"})"
   ]
  },
  {
   "cell_type": "code",
   "execution_count": 35,
   "metadata": {
    "execution": {
     "iopub.execute_input": "2021-08-18T02:42:05.348824Z",
     "iopub.status.busy": "2021-08-18T02:42:05.348146Z",
     "iopub.status.idle": "2021-08-18T02:42:09.700103Z",
     "shell.execute_reply": "2021-08-18T02:42:09.699226Z",
     "shell.execute_reply.started": "2021-08-18T02:42:05.348784Z"
    }
   },
   "outputs": [
    {
     "name": "stdout",
     "output_type": "stream",
     "text": [
      "https://encrypted-tbn0.gstatic.com/images?q=tbn:ANd9GcTJCOzGSsDcMUqAMafgTisyYelB9k0hFksXCaLl3L03gIPJ8pYqVEX7BaTTmQ&s\n",
      "https://encrypted-tbn0.gstatic.com/images?q=tbn:ANd9GcQOQlJZsMPcMoPxFhBA4L2i1JFVLJl71N3nb-bacS4xeUg45DX38RzzfpK5hG0&s\n",
      "https://encrypted-tbn0.gstatic.com/images?q=tbn:ANd9GcTwGtQT9pMRDd3-tEPAHWh9Qpm9noDwLC_2z88USy0EDo4EeJQyoqCnwRpMMCs&s\n",
      "https://encrypted-tbn0.gstatic.com/images?q=tbn:ANd9GcRSga7j9s5O9y_uRNd-je-dHpprunHeOGWhjl63NQ_y_MNjkMe0VMut-ev1bQ&s\n",
      "https://encrypted-tbn0.gstatic.com/images?q=tbn:ANd9GcTJbKs9XUp7Y2KwiE-8LnvqPCitNFapzSOKItnSBfaoE4FUnmgOVo_9QgVL-g&s\n",
      "https://encrypted-tbn0.gstatic.com/images?q=tbn:ANd9GcQTdgNZOUmot9ACw-YSs6HuZdHXJ6TWX4hLKtcs7Y3YkO-LZQGGXP1QEnmPnfo&s\n",
      "https://encrypted-tbn0.gstatic.com/images?q=tbn:ANd9GcQzKYgtQg06UUwgWoo_bIEZH5YTY3w6_tzfEwQRvDLp6rYcYBRrok_-iNeCsCg&s\n",
      "https://encrypted-tbn0.gstatic.com/images?q=tbn:ANd9GcRewW7IXO6bCAXTjJ3bmVvqcQYwLZni_qOH7GFHyJgcmEB7F-DQsm77dP6Ezg&s\n",
      "https://encrypted-tbn0.gstatic.com/images?q=tbn:ANd9GcRCIEpYg2l1W5p5cB7CaX6MdRBZ7e06DDGWuFvCCWODjTJHqPr_su9CviJyDVQ&s\n",
      "https://encrypted-tbn0.gstatic.com/images?q=tbn:ANd9GcQG5DiRIWyfwxV2JL8fsd8DfNqJLJh7YTUQo0p1bgpPSHGlvRHY84JLKJyCTPs&s\n",
      "https://encrypted-tbn0.gstatic.com/images?q=tbn:ANd9GcQumyDWCkd-NL2sj8E4Aht6WYA-DCx6D_3ARwuk2VdH_0vVRi7CYk2K-Ym7iQ&s\n",
      "https://encrypted-tbn0.gstatic.com/images?q=tbn:ANd9GcRDpTVZ7bme82nkmebL8IH25jlkIWtmMN7oFbRODHnWw4bivXnSmCt7dNbk6tM&s\n",
      "https://encrypted-tbn0.gstatic.com/images?q=tbn:ANd9GcRmQKmAIAyyb5aeVn83bX8_sZYOK5xxRCmWVFHINkX_QkoQu71huNzK1sRorWA&s\n",
      "https://encrypted-tbn0.gstatic.com/images?q=tbn:ANd9GcRx3a_uCuPsMO6sgH9NK8iXutvwyu_--DBlCufqMS2gIQCMZhdPn8a0GNnlZg&s\n",
      "https://encrypted-tbn0.gstatic.com/images?q=tbn:ANd9GcRxPKl85E8vQnEbc1tYmMgOK8_rV2yuywIDCQNaNHBACHVCRt-JjVkmS7MP8tA&s\n",
      "https://encrypted-tbn0.gstatic.com/images?q=tbn:ANd9GcSxFKOBIH3XqJwhrQ0RYdOq1wHQY_fwfeiKO4071ImkJUg5FGl6JV7hGKGcDLc&s\n",
      "https://encrypted-tbn0.gstatic.com/images?q=tbn:ANd9GcSUc_OA81cx6xAFGccUG81ZmMdqueQyp83Q9GRwN2Kap7smJYmffP1rZNHzMg&s\n",
      "https://encrypted-tbn0.gstatic.com/images?q=tbn:ANd9GcQoTvIpQ8aI3RZ25XCmYVZHMTAP1vGBV_ncXMaVV05vRhbdakHk0nlIGV1mOG0&s\n",
      "https://encrypted-tbn0.gstatic.com/images?q=tbn:ANd9GcRMdKIlZvjRF6H9T3dte0pADXXYkmZfRfVeMtkSDcKFnwiSREF8Cd-ARh6zBg&s\n",
      "https://encrypted-tbn0.gstatic.com/images?q=tbn:ANd9GcQ-H8N8EuUVsVM1Yyt3-OzfOBBXSyne_76tkQPrQrx2-Lc_fyA2nDXgz6i61IM&s\n"
     ]
    }
   ],
   "source": [
    "imgcount = 0\n",
    "\n",
    "for image in images:\n",
    "    image_src =image[\"src\"]\n",
    "    print(image_src)\n",
    "    name =\"../output/dogs/\"+str(imgcount)+\".jpg\"\n",
    "    urllib.request.urlretrieve(image_src,name)\n",
    "    imgcount+=1"
   ]
  },
  {
   "cell_type": "code",
   "execution_count": 36,
   "metadata": {
    "execution": {
     "iopub.execute_input": "2021-08-18T02:45:26.553344Z",
     "iopub.status.busy": "2021-08-18T02:45:26.552878Z",
     "iopub.status.idle": "2021-08-18T02:45:26.558427Z",
     "shell.execute_reply": "2021-08-18T02:45:26.557027Z",
     "shell.execute_reply.started": "2021-08-18T02:45:26.553307Z"
    }
   },
   "outputs": [],
   "source": [
    "url = \"https://www.freeimages.com/search/puppy\"\n",
    "headers = {'User-Agent':'Mozilla/5.0 (Windows NT 10.0; Win64; x64) AppleWebKit/537.36 (KHTML, like Gecko) Chrome/58.0.3029.110 Safari/537.3'}"
   ]
  },
  {
   "cell_type": "code",
   "execution_count": 37,
   "metadata": {
    "execution": {
     "iopub.execute_input": "2021-08-18T02:45:35.818330Z",
     "iopub.status.busy": "2021-08-18T02:45:35.817903Z",
     "iopub.status.idle": "2021-08-18T02:45:37.122167Z",
     "shell.execute_reply": "2021-08-18T02:45:37.121064Z",
     "shell.execute_reply.started": "2021-08-18T02:45:35.818293Z"
    }
   },
   "outputs": [],
   "source": [
    "response = requests.get(url,headers = headers)\n"
   ]
  },
  {
   "cell_type": "code",
   "execution_count": 38,
   "metadata": {
    "execution": {
     "iopub.execute_input": "2021-08-18T02:45:41.648755Z",
     "iopub.status.busy": "2021-08-18T02:45:41.648242Z",
     "iopub.status.idle": "2021-08-18T02:45:41.752424Z",
     "shell.execute_reply": "2021-08-18T02:45:41.751404Z",
     "shell.execute_reply.started": "2021-08-18T02:45:41.648712Z"
    }
   },
   "outputs": [],
   "source": [
    "soup =BeautifulSoup(response.content,\"html.parser\")"
   ]
  },
  {
   "cell_type": "code",
   "execution_count": 39,
   "metadata": {
    "execution": {
     "iopub.execute_input": "2021-08-18T02:45:47.960255Z",
     "iopub.status.busy": "2021-08-18T02:45:47.959843Z",
     "iopub.status.idle": "2021-08-18T02:45:47.973079Z",
     "shell.execute_reply": "2021-08-18T02:45:47.971988Z",
     "shell.execute_reply.started": "2021-08-18T02:45:47.960216Z"
    }
   },
   "outputs": [],
   "source": [
    "images=soup.findAll(\"img\",attrs ={\"class\":\"nocoda\"})"
   ]
  },
  {
   "cell_type": "code",
   "execution_count": 41,
   "metadata": {
    "execution": {
     "iopub.execute_input": "2021-08-18T02:46:46.879046Z",
     "iopub.status.busy": "2021-08-18T02:46:46.878636Z",
     "iopub.status.idle": "2021-08-18T02:47:28.757294Z",
     "shell.execute_reply": "2021-08-18T02:47:28.756317Z",
     "shell.execute_reply.started": "2021-08-18T02:46:46.879013Z"
    }
   },
   "outputs": [
    {
     "name": "stdout",
     "output_type": "stream",
     "text": [
      "https://media.istockphoto.com/photos/cat-and-dog-sleeping-puppy-and-kitten-sleep-picture-id1168451046?b=1&k=6&m=1168451046&s=170x170&h=yU4G1LCkk-xu262841Svlid5HaBtEN8yIsy4CEfwDgw=\n",
      "https://media.istockphoto.com/photos/groups-of-dogs-labrador-puppies-puppy-chocolate-labrador-retriever-in-picture-id1069531070?b=1&k=6&m=1069531070&s=170x170&h=bKyig6uxWKjluKUGeMfFfh_qzrTmMbyVLqTebgT3Mlw=\n",
      "https://media.istockphoto.com/photos/puppy-running-at-the-park-picture-id1184654849?b=1&k=6&m=1184654849&s=170x170&h=uXPjH4yBkOp9lpsOoNokw9SeeKLYlx0PnWQkzu9h5Cg=\n",
      "https://media.istockphoto.com/photos/portrait-of-brown-puppy-with-bokeh-background-picture-id636475496?b=1&k=6&m=636475496&s=170x170&h=794hxA4bSgju0al-EWtfgG4tpKzBmrlai0h4YSgvJ7M=\n",
      "https://media.istockphoto.com/photos/happy-dog-picture-id182176638?b=1&k=6&m=182176638&s=170x170&h=MKwtAlKtO9DpfZT-CoyXTe8Q7QqV6Zawf8rmFx9BsWI=\n",
      "https://media.istockphoto.com/photos/purebred-beagle-puppy-is-learning-the-world-in-first-time-picture-id639961896?b=1&k=6&m=639961896&s=170x170&h=j2uTyl9QqLcMeVazi_STO94eG0O4AUqpqouVZFc0RRg=\n",
      "https://media.istockphoto.com/photos/happy-puppy-dog-running-on-playground-green-yard-picture-id1197074302?b=1&k=6&m=1197074302&s=170x170&h=oVEs0Q1zLZ0Z4NmhV-wKfIQw1BSHJWwAgjSpagiZZhM=\n",
      "https://media.istockphoto.com/photos/funny-portrait-of-cute-smilling-puppy-dog-border-collie-at-home-picture-id1140456384?b=1&k=6&m=1140456384&s=170x170&h=1Mh2AYW1yVLxd8FkaLK2Aaadb6kvfy0iZPIs2uR5Kxc=\n",
      "https://media.istockphoto.com/photos/chocolate-labrador-puppy-lying-and-chewing-a-dog-bone-picture-id1130714351?b=1&k=6&m=1130714351&s=170x170&h=ykyd2SXS5sTIdEJLYiRipCpBRQT3b5o3tcf0kUTf3q0=\n",
      "https://media.istockphoto.com/photos/adorable-welsh-corgi-pembroke-on-green-lawn-at-home-picture-id1077145200?b=1&k=6&m=1077145200&s=170x170&h=lcRLsEbo33Q7QwAhTGEHTOb0cmpUgOfqSgVrTQoIu30=\n",
      "https://media.istockphoto.com/photos/puppy-chocolate-brown-labrador-picture-id1160123255?b=1&k=6&m=1160123255&s=170x170&h=U7CI2S4iZSJgkgouhSd9rOrfUxAsr1mY7nNqKyH8lMA=\n",
      "https://media.istockphoto.com/photos/golden-retriever-dog-puppy-playing-with-toy-picture-id838308750?b=1&k=6&m=838308750&s=170x170&h=MzNyzSsqppVtJ8_bx0LQyMZmrkG81lMNaEwY2LhnlQk=\n",
      "https://media.istockphoto.com/photos/adorable-litter-of-goldendoodle-puppies-in-a-basket-picture-id1148221339?b=1&k=6&m=1148221339&s=170x170&h=JJYBW1cVLLGKseitG1Zbj5vKNUUC6y6zCAf_vnCkWZ8=\n",
      "https://media.istockphoto.com/photos/corgi-puppy-sitting-down-picture-id1130502863?b=1&k=6&m=1130502863&s=170x170&h=cokTahpDWl6WwweRA4jJAz6s4wCsFQthtqXzn-p6Tw0=\n",
      "https://media.istockphoto.com/photos/cardigan-welsh-corgi-litter-of-puppies-picture-id1170081255?b=1&k=6&m=1170081255&s=170x170&h=mnMrsT_gkqy92C47KXRAgX2v-84WugF3EE1tIHRjYqU=\n",
      "https://media.istockphoto.com/photos/little-dog-picture-id154924213?b=1&k=6&m=154924213&s=170x170&h=nY3YgdJY5ZCFbKO7VRlT_3BTXtH-EYIItSqlM_s0k8Y=\n",
      "https://media.istockphoto.com/photos/adorable-german-shepherd-puppy-lying-in-the-grass-and-sticking-out-picture-id1133304849?b=1&k=6&m=1133304849&s=170x170&h=4yUg9xRkojwY2CJ9olwQ8ebRkI91ha0J6NHXl6F6D64=\n",
      "https://media.istockphoto.com/photos/cute-little-puppies-on-shelf-with-books-on-light-background-picture-id1133605325?b=1&k=6&m=1133605325&s=170x170&h=CBKctKis_AEpw5pMaTJbzWcfL7h9sgVHCv40TMkdAG4=\n",
      "https://media.istockphoto.com/photos/cute-puppy-and-kitten-on-the-grass-outdoor-picture-id619961796?b=1&k=6&m=619961796&s=170x170&h=HSZvQJ3lpyduONzvZavmQSzq6v8Tk6VXN2FAlKxuE7E=\n",
      "https://media.istockphoto.com/photos/cute-homemade-corgi-puppy-lies-in-a-white-fluffy-blanket-funny-out-picture-id1067074306?b=1&k=6&m=1067074306&s=170x170&h=dz5xZ4owkgY_CSLG-QbCy8FVkQT7LHChxci7ZazH7G0=\n",
      "https://media.istockphoto.com/photos/portrait-of-brown-cute-labrador-retriever-puppy-with-sunset-bokeh-picture-id646108884?b=1&k=6&m=646108884&s=170x170&h=ddW0FJFOuupG0Wu73D--vq7sxaPrExudlnSf38IBuh0=\n",
      "https://media.istockphoto.com/photos/crazy-looking-black-and-white-border-collie-dog-say-looking-intently-picture-id1213516345?b=1&k=6&m=1213516345&s=170x170&h=PQGWwpjyynW2kjiVfzWPKD9d7NlWnf-V4UKJRWpbaEs=\n",
      "https://media.istockphoto.com/photos/three-jack-russell-puppies-play-on-the-grass-picture-id1177008347?b=1&k=6&m=1177008347&s=170x170&h=1GFAP8in085Z37UXpRerUTEuIQBGgvgKBJY20kXrVDY=\n",
      "https://media.istockphoto.com/photos/english-cocker-spaniel-puppy-eating-dog-food-picture-id1201203743?b=1&k=6&m=1201203743&s=170x170&h=1TjYlLurg8fFi1cRTqpdZdU7MjOyAiLrmmWxG_yhdtA=\n",
      "https://media.istockphoto.com/photos/cute-puppy-and-kitten-on-the-grass-outdoor-picture-id619961796?b=1&k=6&m=619961796&s=170x170&h=HSZvQJ3lpyduONzvZavmQSzq6v8Tk6VXN2FAlKxuE7E=\n",
      "https://media.istockphoto.com/photos/cute-homemade-corgi-puppy-lies-in-a-white-fluffy-blanket-funny-out-picture-id1067074306?b=1&k=6&m=1067074306&s=170x170&h=dz5xZ4owkgY_CSLG-QbCy8FVkQT7LHChxci7ZazH7G0=\n",
      "https://media.istockphoto.com/photos/portrait-of-brown-cute-labrador-retriever-puppy-with-sunset-bokeh-picture-id646108884?b=1&k=6&m=646108884&s=170x170&h=ddW0FJFOuupG0Wu73D--vq7sxaPrExudlnSf38IBuh0=\n",
      "https://media.istockphoto.com/photos/crazy-looking-black-and-white-border-collie-dog-say-looking-intently-picture-id1213516345?b=1&k=6&m=1213516345&s=170x170&h=PQGWwpjyynW2kjiVfzWPKD9d7NlWnf-V4UKJRWpbaEs=\n",
      "https://media.istockphoto.com/photos/three-jack-russell-puppies-play-on-the-grass-picture-id1177008347?b=1&k=6&m=1177008347&s=170x170&h=1GFAP8in085Z37UXpRerUTEuIQBGgvgKBJY20kXrVDY=\n",
      "https://media.istockphoto.com/photos/english-cocker-spaniel-puppy-eating-dog-food-picture-id1201203743?b=1&k=6&m=1201203743&s=170x170&h=1TjYlLurg8fFi1cRTqpdZdU7MjOyAiLrmmWxG_yhdtA=\n",
      "https://media.istockphoto.com/photos/one-pouting-sulking-puppy-and-three-content-puppies-picture-id946368826?b=1&k=6&m=946368826&s=170x170&h=fGj-68EbNcMQDrUcNKk1tkWnWUAwrnKh5yfvi4dCCMk=\n",
      "https://media.istockphoto.com/photos/dogs-playing-at-public-park-picture-id1210828938?b=1&k=6&m=1210828938&s=170x170&h=6c9ANcw2jJa6OZvajViuOPWii7nDgfGbEs68P2EiS6U=\n",
      "https://media.istockphoto.com/photos/labrador-dog-playing-outdoors-picture-id1180921938?b=1&k=6&m=1180921938&s=170x170&h=OQ87zYmVdCyrnCEOy3caM_9dj41COXcdSR9_JRk4klI=\n",
      "https://media.istockphoto.com/photos/happy-doggy-fast-running-on-grass-picture-id186278106?b=1&k=6&m=186278106&s=170x170&h=7KZ_ZS8YSBP2Jlqugcq3D93LBeatN08uNjgPTQqux2k=\n"
     ]
    }
   ],
   "source": [
    "for image in images:\n",
    "    image_src =image[\"src\"]\n",
    "    print(image_src)\n",
    "    name =\"../output/dogs/\"+image[\"alt\"]+\".jpg\"\n",
    "    urllib.request.urlretrieve(image_src,name)\n"
   ]
  },
  {
   "cell_type": "markdown",
   "metadata": {},
   "source": [
    "Similarly you can do more for other animals and also from other websites/pages\n",
    "Also you can automate the above process "
   ]
  },
  {
   "cell_type": "code",
   "execution_count": null,
   "metadata": {},
   "outputs": [],
   "source": []
  }
 ],
 "metadata": {
  "kernelspec": {
   "display_name": "Python 3 (ipykernel)",
   "language": "python",
   "name": "python3"
  },
  "language_info": {
   "codemirror_mode": {
    "name": "ipython",
    "version": 3
   },
   "file_extension": ".py",
   "mimetype": "text/x-python",
   "name": "python",
   "nbconvert_exporter": "python",
   "pygments_lexer": "ipython3",
   "version": "3.9.12"
  }
 },
 "nbformat": 4,
 "nbformat_minor": 4
}
